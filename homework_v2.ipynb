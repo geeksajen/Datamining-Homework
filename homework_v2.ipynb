{
 "cells": [
  {
   "cell_type": "markdown",
   "id": "a43ace30",
   "metadata": {},
   "source": [
    "# Read the data"
   ]
  },
  {
   "cell_type": "code",
   "execution_count": 8,
   "id": "b1301a50",
   "metadata": {},
   "outputs": [
    {
     "name": "stdout",
     "output_type": "stream",
     "text": [
      "   agelevel  income student     credit BuyComputer    cls\n",
      "0     youth    high      no       fair          no  train\n",
      "1     youth    high      no  excellent          no  train\n",
      "2    middle    high      no       fair         yes  train\n",
      "3    senior  medium      no       fair         yes  train\n",
      "4    senior     low     yes       fair         yes  train\n",
      "5    senior     low     yes  excellent          no  train\n",
      "6    middle     low     yes  excellent         yes  train\n",
      "7     youth  medium      no       fair          no  train\n",
      "8     youth     low     yes       fair         yes  train\n",
      "9    senior  medium     yes       fair         yes  train\n",
      "10    youth  medium     yes  excellent         yes  train\n",
      "11   middle  medium      no  excellent         yes  train\n",
      "12   middle    high     yes       fair         yes  train\n",
      "13   senior  medium      no  excellent          no  train\n",
      "0     youth  medium     yes       fair          no   test\n"
     ]
    }
   ],
   "source": [
    "import pandas as pd\n",
    "# Read training & test data from csv \n",
    "df_train = pd.read_csv('buyComputer.csv')\n",
    "df_train['cls'] = 'train'\n",
    "df_test = pd.read_csv('buyComputer_test.csv')\n",
    "df_test['cls'] = 'test'\n",
    "# ==================================================================================================\n",
    "\n",
    "df_data = pd.concat([ df_train, df_test ])\n",
    "print (df_data)"
   ]
  },
  {
   "cell_type": "markdown",
   "id": "28ccf48e",
   "metadata": {},
   "source": [
    "# Pre-process the data"
   ]
  },
  {
   "cell_type": "code",
   "execution_count": 9,
   "id": "84ddf41c",
   "metadata": {},
   "outputs": [
    {
     "data": {
      "text/html": [
       "<div>\n",
       "<style scoped>\n",
       "    .dataframe tbody tr th:only-of-type {\n",
       "        vertical-align: middle;\n",
       "    }\n",
       "\n",
       "    .dataframe tbody tr th {\n",
       "        vertical-align: top;\n",
       "    }\n",
       "\n",
       "    .dataframe thead th {\n",
       "        text-align: right;\n",
       "    }\n",
       "</style>\n",
       "<table border=\"1\" class=\"dataframe\">\n",
       "  <thead>\n",
       "    <tr style=\"text-align: right;\">\n",
       "      <th></th>\n",
       "      <th>agelevel</th>\n",
       "      <th>income</th>\n",
       "      <th>student</th>\n",
       "      <th>credit</th>\n",
       "      <th>BuyComputer</th>\n",
       "      <th>cls</th>\n",
       "    </tr>\n",
       "  </thead>\n",
       "  <tbody>\n",
       "    <tr>\n",
       "      <th>0</th>\n",
       "      <td>2</td>\n",
       "      <td>0</td>\n",
       "      <td>0</td>\n",
       "      <td>1</td>\n",
       "      <td>0</td>\n",
       "      <td>train</td>\n",
       "    </tr>\n",
       "    <tr>\n",
       "      <th>1</th>\n",
       "      <td>2</td>\n",
       "      <td>0</td>\n",
       "      <td>0</td>\n",
       "      <td>0</td>\n",
       "      <td>0</td>\n",
       "      <td>train</td>\n",
       "    </tr>\n",
       "    <tr>\n",
       "      <th>2</th>\n",
       "      <td>0</td>\n",
       "      <td>0</td>\n",
       "      <td>0</td>\n",
       "      <td>1</td>\n",
       "      <td>1</td>\n",
       "      <td>train</td>\n",
       "    </tr>\n",
       "    <tr>\n",
       "      <th>3</th>\n",
       "      <td>1</td>\n",
       "      <td>2</td>\n",
       "      <td>0</td>\n",
       "      <td>1</td>\n",
       "      <td>1</td>\n",
       "      <td>train</td>\n",
       "    </tr>\n",
       "    <tr>\n",
       "      <th>4</th>\n",
       "      <td>1</td>\n",
       "      <td>1</td>\n",
       "      <td>1</td>\n",
       "      <td>1</td>\n",
       "      <td>1</td>\n",
       "      <td>train</td>\n",
       "    </tr>\n",
       "    <tr>\n",
       "      <th>5</th>\n",
       "      <td>1</td>\n",
       "      <td>1</td>\n",
       "      <td>1</td>\n",
       "      <td>0</td>\n",
       "      <td>0</td>\n",
       "      <td>train</td>\n",
       "    </tr>\n",
       "    <tr>\n",
       "      <th>6</th>\n",
       "      <td>0</td>\n",
       "      <td>1</td>\n",
       "      <td>1</td>\n",
       "      <td>0</td>\n",
       "      <td>1</td>\n",
       "      <td>train</td>\n",
       "    </tr>\n",
       "    <tr>\n",
       "      <th>7</th>\n",
       "      <td>2</td>\n",
       "      <td>2</td>\n",
       "      <td>0</td>\n",
       "      <td>1</td>\n",
       "      <td>0</td>\n",
       "      <td>train</td>\n",
       "    </tr>\n",
       "    <tr>\n",
       "      <th>8</th>\n",
       "      <td>2</td>\n",
       "      <td>1</td>\n",
       "      <td>1</td>\n",
       "      <td>1</td>\n",
       "      <td>1</td>\n",
       "      <td>train</td>\n",
       "    </tr>\n",
       "    <tr>\n",
       "      <th>9</th>\n",
       "      <td>1</td>\n",
       "      <td>2</td>\n",
       "      <td>1</td>\n",
       "      <td>1</td>\n",
       "      <td>1</td>\n",
       "      <td>train</td>\n",
       "    </tr>\n",
       "    <tr>\n",
       "      <th>10</th>\n",
       "      <td>2</td>\n",
       "      <td>2</td>\n",
       "      <td>1</td>\n",
       "      <td>0</td>\n",
       "      <td>1</td>\n",
       "      <td>train</td>\n",
       "    </tr>\n",
       "    <tr>\n",
       "      <th>11</th>\n",
       "      <td>0</td>\n",
       "      <td>2</td>\n",
       "      <td>0</td>\n",
       "      <td>0</td>\n",
       "      <td>1</td>\n",
       "      <td>train</td>\n",
       "    </tr>\n",
       "    <tr>\n",
       "      <th>12</th>\n",
       "      <td>0</td>\n",
       "      <td>0</td>\n",
       "      <td>1</td>\n",
       "      <td>1</td>\n",
       "      <td>1</td>\n",
       "      <td>train</td>\n",
       "    </tr>\n",
       "    <tr>\n",
       "      <th>13</th>\n",
       "      <td>1</td>\n",
       "      <td>2</td>\n",
       "      <td>0</td>\n",
       "      <td>0</td>\n",
       "      <td>0</td>\n",
       "      <td>train</td>\n",
       "    </tr>\n",
       "    <tr>\n",
       "      <th>0</th>\n",
       "      <td>2</td>\n",
       "      <td>2</td>\n",
       "      <td>1</td>\n",
       "      <td>1</td>\n",
       "      <td>0</td>\n",
       "      <td>test</td>\n",
       "    </tr>\n",
       "  </tbody>\n",
       "</table>\n",
       "</div>"
      ],
      "text/plain": [
       "    agelevel  income  student  credit  BuyComputer    cls\n",
       "0          2       0        0       1            0  train\n",
       "1          2       0        0       0            0  train\n",
       "2          0       0        0       1            1  train\n",
       "3          1       2        0       1            1  train\n",
       "4          1       1        1       1            1  train\n",
       "5          1       1        1       0            0  train\n",
       "6          0       1        1       0            1  train\n",
       "7          2       2        0       1            0  train\n",
       "8          2       1        1       1            1  train\n",
       "9          1       2        1       1            1  train\n",
       "10         2       2        1       0            1  train\n",
       "11         0       2        0       0            1  train\n",
       "12         0       0        1       1            1  train\n",
       "13         1       2        0       0            0  train\n",
       "0          2       2        1       1            0   test"
      ]
     },
     "execution_count": 9,
     "metadata": {},
     "output_type": "execute_result"
    }
   ],
   "source": [
    "from sklearn.preprocessing import LabelEncoder\n",
    "labelencoder = LabelEncoder()\n",
    "\n",
    "# Label encoding & One hot encoding\n",
    "df_data['agelevel'] = labelencoder.fit_transform(df_data['agelevel'])\n",
    "df_data['income'] = labelencoder.fit_transform(df_data['income'])\n",
    "df_data['student'] = labelencoder.fit_transform(df_data['student'])\n",
    "df_data['credit'] = labelencoder.fit_transform(df_data['credit'])\n",
    "df_data['BuyComputer'] = labelencoder.fit_transform(df_data['BuyComputer'])\n",
    "df_data"
   ]
  },
  {
   "cell_type": "markdown",
   "id": "3494c018",
   "metadata": {},
   "source": [
    "# Split into train / test Data Sets"
   ]
  },
  {
   "cell_type": "code",
   "execution_count": 10,
   "id": "5c8be8ae",
   "metadata": {},
   "outputs": [],
   "source": [
    "df_train = df_data[df_data['cls'] == 'train'].drop(['cls'], axis = 1)\n",
    "df_test = df_data[df_data['cls'] == 'test'].drop(['cls'], axis = 1)\n",
    "\n",
    "y_train = df_train['BuyComputer']\n",
    "X_train = df_train.drop(['BuyComputer'], axis = 1)\n",
    "\n",
    "y_test = df_test['BuyComputer']\n",
    "X_test = df_test.drop(['BuyComputer'], axis = 1)"
   ]
  },
  {
   "cell_type": "markdown",
   "id": "f6350eac",
   "metadata": {},
   "source": [
    "# Standardizing the data"
   ]
  },
  {
   "cell_type": "code",
   "execution_count": 7,
   "id": "3d7fdda1",
   "metadata": {},
   "outputs": [
    {
     "name": "stdout",
     "output_type": "stream",
     "text": [
      "    agelevel  income  student  credit\n",
      "0          2       0        0       1\n",
      "1          2       0        0       0\n",
      "2          0       0        0       1\n",
      "3          1       2        0       1\n",
      "4          1       1        1       1\n",
      "5          1       1        1       0\n",
      "6          0       1        1       0\n",
      "7          2       2        0       1\n",
      "8          2       1        1       1\n",
      "9          1       2        1       1\n",
      "10         2       2        1       0\n",
      "11         0       2        0       0\n",
      "12         0       0        1       1\n",
      "13         1       2        0       0\n",
      "[[ 1.16275535 -1.37198868 -1.          0.8660254 ]\n",
      " [ 1.16275535 -1.37198868 -1.         -1.15470054]\n",
      " [-1.34164079 -1.37198868 -1.          0.8660254 ]\n",
      " [-0.08944272  1.02899151 -1.          0.8660254 ]\n",
      " [-0.08944272 -0.17149859  1.          0.8660254 ]\n",
      " [-0.08944272 -0.17149859  1.         -1.15470054]\n",
      " [-1.34164079 -0.17149859  1.         -1.15470054]\n",
      " [ 1.16275535  1.02899151 -1.          0.8660254 ]\n",
      " [ 1.16275535 -0.17149859  1.          0.8660254 ]\n",
      " [-0.08944272  1.02899151  1.          0.8660254 ]\n",
      " [ 1.16275535  1.02899151  1.         -1.15470054]\n",
      " [-1.34164079  1.02899151 -1.         -1.15470054]\n",
      " [-1.34164079 -1.37198868  1.          0.8660254 ]\n",
      " [-0.08944272  1.02899151 -1.         -1.15470054]]\n",
      "[[1.16275535 1.02899151 1.         0.8660254 ]]\n"
     ]
    }
   ],
   "source": [
    "from sklearn.preprocessing import StandardScaler\n",
    "\n",
    "sc = StandardScaler()\n",
    "rrr = sc.fit(X_train)\n",
    "X_train_std = sc.transform(X_train)\n",
    "X_test_std = sc.transform(X_test)\n",
    "\n",
    "print(X_train)\n",
    "print(X_train_std)\n",
    "print(X_test_std)"
   ]
  },
  {
   "cell_type": "markdown",
   "id": "41490978",
   "metadata": {},
   "source": [
    "# Training Data & Predict"
   ]
  },
  {
   "cell_type": "code",
   "execution_count": 17,
   "id": "6ac3cd1d",
   "metadata": {},
   "outputs": [
    {
     "name": "stdout",
     "output_type": "stream",
     "text": [
      "Misclassified samples: 1\n",
      "測試資料的準確率: 0.00\n"
     ]
    }
   ],
   "source": [
    "# 開始訓練\n",
    "from sklearn.tree import DecisionTreeClassifier\n",
    "model = DecisionTreeClassifier(criterion='entropy', max_depth=5, random_state=0)\n",
    "model.fit(X_train, y_train)\n",
    "\n",
    "# 預測\n",
    "y_pred = model.predict(X_test)\n",
    "print('Misclassified samples: %d' % (y_test != y_pred).sum())\n",
    "y_pred\n",
    "\n",
    "# 預測結果  1: 代表會買; 0: 代表不會買\n",
    "from sklearn.metrics import accuracy_score\n",
    "print('測試資料的準確率: %.2f' % accuracy_score(y_test, y_pred))"
   ]
  },
  {
   "cell_type": "markdown",
   "id": "dc2d83cc",
   "metadata": {},
   "source": [
    "# 畫圖\n",
    "\n",
    "到 http://www.graphviz.org/download/ 下載並安裝 graphviz 即可 "
   ]
  },
  {
   "cell_type": "code",
   "execution_count": 6,
   "id": "fcf66b77",
   "metadata": {},
   "outputs": [],
   "source": [
    "# 產生 tree.dot 檔\n",
    "from sklearn.tree import export_graphviz\n",
    "A=['no', 'yes']\n",
    "export_graphviz(model, \n",
    "                out_file='tree.dot', \n",
    "                feature_names=['agelevel', 'income', 'student', 'credit'], \n",
    "                class_names=A, \n",
    "                rounded = True, \n",
    "                proportion =False, precision = 2, filled = True)"
   ]
  },
  {
   "cell_type": "code",
   "execution_count": 88,
   "id": "a144eba1",
   "metadata": {},
   "outputs": [],
   "source": [
    "#!pip install graphviz"
   ]
  },
  {
   "cell_type": "markdown",
   "id": "d82820e2",
   "metadata": {},
   "source": [
    "產生 tree.dot 檔後，開啟「命令提示字元」\n",
    "輸入以下命令，產生 tree.png  \n",
    "\n",
    "``` \n",
    "dot -Tpng .\\tree.dot -o tree.png\n",
    "```"
   ]
  }
 ],
 "metadata": {
  "kernelspec": {
   "display_name": "Python 3 (ipykernel)",
   "language": "python",
   "name": "python3"
  },
  "language_info": {
   "codemirror_mode": {
    "name": "ipython",
    "version": 3
   },
   "file_extension": ".py",
   "mimetype": "text/x-python",
   "name": "python",
   "nbconvert_exporter": "python",
   "pygments_lexer": "ipython3",
   "version": "3.9.12"
  }
 },
 "nbformat": 4,
 "nbformat_minor": 5
}
