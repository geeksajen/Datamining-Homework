{
 "cells": [
  {
   "cell_type": "code",
   "execution_count": 8,
   "id": "dfcb8ea6",
   "metadata": {},
   "outputs": [
    {
     "name": "stdout",
     "output_type": "stream",
     "text": [
      "[3]\n"
     ]
    }
   ],
   "source": [
    "import numpy as np\n",
    "rng = np.random.RandomState(1)\n",
    "X = rng.randint(5, size=(6, 100))\n",
    "y = np.array([1, 2, 3, 4, 5, 6])\n",
    "from sklearn.naive_bayes import CategoricalNB\n",
    "clf = CategoricalNB()\n",
    "clf.fit(X, y)\n",
    "\n",
    "print(clf.predict(X[2:3]))"
   ]
  },
  {
   "cell_type": "code",
   "execution_count": 1,
   "id": "59add55c",
   "metadata": {},
   "outputs": [],
   "source": [
    "import numpy as np\n",
    "import pandas as pd\n",
    "from sklearn.naive_bayes import  CategoricalNB\n",
    "from sklearn.preprocessing import OrdinalEncoder, LabelEncoder\n",
    "from sklearn.metrics import accuracy_score, confusion_matrix, roc_curve, roc_auc_score, recall_score, precision_score\n",
    "from sklearn.metrics import f1_score, classification_report\n",
    "buy=pd.read_csv(\"buyComputer.csv\")\n",
    "features = buy.columns.tolist()\n",
    "features.remove('BuyComputer')"
   ]
  },
  {
   "cell_type": "code",
   "execution_count": 2,
   "id": "ca5339eb",
   "metadata": {},
   "outputs": [],
   "source": [
    "#%% encode the dataset X and y\n",
    "\n",
    "encoder1 = OrdinalEncoder()\n",
    "data_encoded = encoder1.fit_transform(buy[features])\n",
    "buy_encoded = pd.DataFrame(data_encoded, columns=features)\n",
    "\n",
    "encoder2 = LabelEncoder()\n",
    "target_encoded = encoder2.fit_transform(buy['BuyComputer'])\n",
    "buy_encoded['BuyComputer'] = target_encoded\n"
   ]
  },
  {
   "cell_type": "code",
   "execution_count": 3,
   "id": "5a823f03",
   "metadata": {},
   "outputs": [
    {
     "name": "stdout",
     "output_type": "stream",
     "text": [
      "0.9285714285714286\n"
     ]
    }
   ],
   "source": [
    "#%%  prepare X_train and y_train, fit the model\n",
    "X_train= buy_encoded.drop('BuyComputer', axis=1).values\n",
    "y_train= buy_encoded['BuyComputer']\n",
    "clf = CategoricalNB()\n",
    "clf.fit(X_train, y_train)\n",
    "\n",
    "train_score = clf.score(X_train, y_train)\n",
    "print(train_score)"
   ]
  },
  {
   "cell_type": "code",
   "execution_count": 4,
   "id": "8a152b8e",
   "metadata": {},
   "outputs": [
    {
     "name": "stderr",
     "output_type": "stream",
     "text": [
      "C:\\ProgramData\\Anaconda3\\lib\\site-packages\\sklearn\\base.py:443: UserWarning: X has feature names, but CategoricalNB was fitted without feature names\n",
      "  warnings.warn(\n"
     ]
    },
    {
     "data": {
      "text/plain": [
       "array([1])"
      ]
     },
     "execution_count": 4,
     "metadata": {},
     "output_type": "execute_result"
    }
   ],
   "source": [
    "#%% preparing X_test\n",
    "buy1=pd.read_csv(\"buyComputer1.csv\")\n",
    "features = buy1.columns.tolist()\n",
    "features.remove('BuyComputer')\n",
    "# note that only transform no fit in the following code\n",
    "data_encoded = encoder1.transform(buy1[features])\n",
    "X_test = pd.DataFrame(data_encoded, columns=features)\n",
    "clf.predict(X_test)"
   ]
  },
  {
   "cell_type": "code",
   "execution_count": 5,
   "id": "6e1650b8",
   "metadata": {},
   "outputs": [
    {
     "name": "stdout",
     "output_type": "stream",
     "text": [
      "0.9285714285714286\n"
     ]
    }
   ],
   "source": [
    "#%% the mid-term problem of 2019\n",
    "tennis=pd.read_csv(\"playtennis.csv\", index_col=0)\n",
    "features = tennis.columns.tolist()\n",
    "features.remove('PlayTennis')\n",
    "encoder = OrdinalEncoder()\n",
    "data_encoded = encoder.fit_transform(tennis[features])\n",
    "tennis_encoded = pd.DataFrame(data_encoded, columns=features)\n",
    "\n",
    "encoder1 = LabelEncoder()\n",
    "target_encoded = encoder1.fit_transform(tennis['PlayTennis'])\n",
    "tennis_encoded['PlayTennis'] = target_encoded\n",
    "\n",
    "X_train= tennis_encoded.drop('PlayTennis', axis=1).values\n",
    "y_train= tennis_encoded['PlayTennis']\n",
    "clf = CategoricalNB()\n",
    "clf.fit(X_train, y_train)\n",
    "\n",
    "train_score = clf.score(X_train, y_train)\n",
    "print(train_score)"
   ]
  },
  {
   "cell_type": "code",
   "execution_count": 6,
   "id": "3a912385",
   "metadata": {},
   "outputs": [
    {
     "name": "stderr",
     "output_type": "stream",
     "text": [
      "C:\\ProgramData\\Anaconda3\\lib\\site-packages\\sklearn\\base.py:443: UserWarning: X has feature names, but CategoricalNB was fitted without feature names\n",
      "  warnings.warn(\n"
     ]
    },
    {
     "data": {
      "text/plain": [
       "array([1])"
      ]
     },
     "execution_count": 6,
     "metadata": {},
     "output_type": "execute_result"
    }
   ],
   "source": [
    "#%% preparing X_test\n",
    "test1=pd.read_csv(\"playtennis1.csv\", index_col=0)\n",
    "features = test1.columns.tolist()\n",
    "features.remove('PlayTennis')\n",
    "# note that only transform no fit in the following code\n",
    "data_encoded = encoder.transform(test1[features])\n",
    "X_test = pd.DataFrame(data_encoded, columns=features)\n",
    "clf.predict(X_test)"
   ]
  }
 ],
 "metadata": {
  "kernelspec": {
   "display_name": "Python 3 (ipykernel)",
   "language": "python",
   "name": "python3"
  },
  "language_info": {
   "codemirror_mode": {
    "name": "ipython",
    "version": 3
   },
   "file_extension": ".py",
   "mimetype": "text/x-python",
   "name": "python",
   "nbconvert_exporter": "python",
   "pygments_lexer": "ipython3",
   "version": "3.9.12"
  }
 },
 "nbformat": 4,
 "nbformat_minor": 5
}
